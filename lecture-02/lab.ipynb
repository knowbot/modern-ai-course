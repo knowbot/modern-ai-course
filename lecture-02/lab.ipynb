{
  "nbformat": 4,
  "nbformat_minor": 0,
  "metadata": {
    "colab": {
      "name": "connect4.ipynb",
      "provenance": [],
      "collapsed_sections": []
    },
    "kernelspec": {
      "name": "python3",
      "display_name": "Python 3"
    },
    "language_info": {
      "name": "python"
    }
  },
  "cells": [
    {
      "cell_type": "markdown",
      "metadata": {
        "id": "hFgoWb-cQTFe"
      },
      "source": [
        "[![Open In Colab](https://colab.research.google.com/assets/colab-badge.svg)](https://colab.research.google.com/github/real-itu/modern-ai-course/blob/master/lecture-02/lab.ipynb)"
      ]
    },
    {
      "cell_type": "markdown",
      "metadata": {
        "id": "WCsnF20ssl92"
      },
      "source": [
        "# Lab 2 - Adversarial Search\n",
        "\n",
        "[Connect 4](https://en.wikipedia.org/wiki/Connect_Four) is a classic board game in which 2 players alternate placing markers in columns, and the goal is to get 4 in a row, either horizontally, vertically or diagonally. See the short video below"
      ]
    },
    {
      "cell_type": "code",
      "metadata": {
        "id": "FjNjkAQMt3D5"
      },
      "source": [
        "from IPython.display import YouTubeVideo\n",
        "YouTubeVideo(\"ylZBRUJi3UQ\")"
      ],
      "execution_count": null,
      "outputs": []
    },
    {
      "cell_type": "markdown",
      "metadata": {
        "id": "j6HUcMYbuEq_"
      },
      "source": [
        "The game is implemented below. It will play a game where both players take random (legal) actions. The MAX player is represented with a X and the MIN player with an O. The MAX player starts. Execute the code."
      ]
    },
    {
      "cell_type": "code",
      "metadata": {
        "id": "-jWBNC6j1O91"
      },
      "source": [
        "import random\n",
        "from copy import deepcopy\n",
        "from typing import Sequence\n",
        "\n",
        "NONE = '.'\n",
        "MAX = 'X'\n",
        "MIN = 'O'\n",
        "COLS = 7\n",
        "ROWS = 6\n",
        "N_WIN = 4\n",
        "\n",
        "\n",
        "class ArrayState:\n",
        "    def __init__(self, board, heights, n_moves):\n",
        "        self.board = board\n",
        "        self.heights = heights\n",
        "        self.n_moves = n_moves\n",
        "\n",
        "    @staticmethod\n",
        "    def init():\n",
        "        board = [[NONE] * ROWS for _ in range(COLS)]\n",
        "        return ArrayState(board, [0] * COLS, 0)\n",
        "\n",
        "\n",
        "def result(state: ArrayState, action: int) -> ArrayState:\n",
        "    \"\"\"Insert in the given column.\"\"\"\n",
        "    assert 0 <= action < COLS, \"action must be a column number\"\n",
        "\n",
        "    if state.heights[action] >= ROWS:\n",
        "        raise Exception('Column is full')\n",
        "\n",
        "    player = MAX if state.n_moves % 2 == 0 else MIN\n",
        "\n",
        "    board = deepcopy(state.board)\n",
        "    board[action][ROWS - state.heights[action] - 1] = player\n",
        "\n",
        "    heights = deepcopy(state.heights)\n",
        "    heights[action] += 1\n",
        "\n",
        "    return ArrayState(board, heights, state.n_moves + 1)\n",
        "\n",
        "\n",
        "def actions(state: ArrayState) -> Sequence[int]:\n",
        "    return [i for i in range(COLS) if state.heights[i] < ROWS]\n",
        "\n",
        "\n",
        "def utility(state: ArrayState) -> float:\n",
        "    \"\"\"Get the winner on the current board.\"\"\"\n",
        "\n",
        "    board = state.board\n",
        "\n",
        "    def diagonalsPos():\n",
        "        \"\"\"Get positive diagonals, going from bottom-left to top-right.\"\"\"\n",
        "        for di in ([(j, i - j) for j in range(COLS)] for i in range(COLS + ROWS - 1)):\n",
        "            yield [board[i][j] for i, j in di if i >= 0 and j >= 0 and i < COLS and j < ROWS]\n",
        "\n",
        "    def diagonalsNeg():\n",
        "        \"\"\"Get negative diagonals, going from top-left to bottom-right.\"\"\"\n",
        "        for di in ([(j, i - COLS + j + 1) for j in range(COLS)] for i in range(COLS + ROWS - 1)):\n",
        "            yield [board[i][j] for i, j in di if i >= 0 and j >= 0 and i < COLS and j < ROWS]\n",
        "\n",
        "    lines = board + \\\n",
        "            list(zip(*board)) + \\\n",
        "            list(diagonalsNeg()) + \\\n",
        "            list(diagonalsPos())\n",
        "\n",
        "    max_win = MAX * N_WIN\n",
        "    min_win = MIN * N_WIN\n",
        "    for line in lines:\n",
        "        str_line = \"\".join(line)\n",
        "        if max_win in str_line:\n",
        "            return 1\n",
        "        elif min_win in str_line:\n",
        "            return -1\n",
        "    return 0\n",
        "\n",
        "\n",
        "def terminal_test(state: ArrayState) -> bool:\n",
        "    return state.n_moves >= COLS * ROWS or utility(state) != 0\n",
        "\n",
        "\n",
        "def printBoard(state: ArrayState):\n",
        "    board = state.board\n",
        "    \"\"\"Print the board.\"\"\"\n",
        "    print('  '.join(map(str, range(COLS))))\n",
        "    for y in range(ROWS):\n",
        "        print('  '.join(str(board[x][y]) for x in range(COLS)))\n",
        "    print()\n",
        "\n",
        "\n",
        "if __name__ == '__main__':\n",
        "    s = ArrayState.init()\n",
        "    while not terminal_test(s):\n",
        "        a = random.choice(actions(s))\n",
        "        s = result(s, a)\n",
        "        printBoard(s)\n",
        "    print(utility(s))\n"
      ],
      "execution_count": null,
      "outputs": []
    },
    {
      "cell_type": "markdown",
      "metadata": {
        "id": "rljSjxl4unxn"
      },
      "source": [
        "The last number 0, -1 or 1 is the utility or score of the game. 0 means it was a draw, 1 means MAX player won and -1 means MIN player won."
      ]
    },
    {
      "cell_type": "markdown",
      "metadata": {
        "id": "UUUpbYYJu6Zr"
      },
      "source": [
        "### Exercise 1\n",
        "\n",
        "Modify the code so that you can play manually as the MIN player against the random AI."
      ]
    },
    {
      "cell_type": "markdown",
      "metadata": {
        "id": "OrpAOYa-vbR6"
      },
      "source": [
        "### Exercise 2\n",
        "\n",
        "Implement standard minimax with a fixed depth search. Modify the utility function to handle non-terminal positions using heuristics. Find a value for the depth such that moves doesn't take longer than approx. 1s to evaluate. See if you can beat your connect4 AI."
      ]
    },
    {
      "cell_type": "markdown",
      "metadata": {
        "id": "-s7XbCsvwOtt"
      },
      "source": [
        "### Exercise 3\n",
        "\n",
        "Add alpha/beta pruning to your minimax. Change your depth so that moves still takes approx 1 second to evaluate. How much deeper can you search? See if you can beat your connect4 AI."
      ]
    },
    {
      "cell_type": "markdown",
      "metadata": {
        "id": "weG9OiFYwfSK"
      },
      "source": [
        "### Exercise 4\n",
        "\n",
        "Add move ordering. The middle columns are often \"better\" since there's more winning positions that contain them. Evaluate the moves in this order: [3,2,4,1,5,0,6]. How much deeper can you search now? See if you can beat your connect4 AI"
      ]
    },
    {
      "cell_type": "markdown",
      "metadata": {
        "id": "enbI-o_Cw6Jw"
      },
      "source": [
        "### Exercise 5 - Optional\n",
        "\n",
        "Improve your AI somehow. Consider \n",
        "\n",
        "\n",
        "* Better heuristics\n",
        "* Faster board representations (look up bitboards)\n",
        "* Adding a transposition table (see class below)\n",
        "* Better move ordering"
      ]
    },
    {
      "cell_type": "code",
      "metadata": {
        "id": "uqAPS8cFgVN-"
      },
      "source": [
        "class TranspositionTable:\n",
        "\n",
        "    def __init__(self, size=1_000_000):\n",
        "        self.size = size\n",
        "        self.vals = [None] * size\n",
        "\n",
        "    def board_str(self, state: ArrayState):\n",
        "        return ''.join([''.join(c) for c in state.board])\n",
        "\n",
        "    def put(self, state: ArrayState, utility: float):\n",
        "        bstr = self.board_str(state)\n",
        "        idx = hash(bstr) % self.size\n",
        "        self.vals[idx] = (bstr, utility)\n",
        "\n",
        "    def get(self, state: ArrayState):\n",
        "        bstr = self.board_str(state)\n",
        "        idx = hash(bstr) % self.size\n",
        "        stored = self.vals[idx]\n",
        "        if stored is None:\n",
        "            return None\n",
        "        if stored[0] == bstr:\n",
        "            return stored[1]\n",
        "        else:\n",
        "            return None"
      ],
      "execution_count": null,
      "outputs": []
    }
  ]
}