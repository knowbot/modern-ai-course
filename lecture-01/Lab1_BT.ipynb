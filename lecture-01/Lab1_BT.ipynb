{
 "cells": [
  {
   "cell_type": "markdown",
   "metadata": {},
   "source": [
    "# Lab 1: Designing AI agents using behavior trees for Pacman\n"
   ]
  },
  {
   "cell_type": "markdown",
   "metadata": {},
   "source": [
    "In this exercise, we learn to design a Packman agents using behaviour tree. We first start with two agents: `ZeroIntelligent` and `Intelligent` playing simple game. This acts as a practice to understand the Pacman framework and then utlize the same to design complex Pacman agents. Please try to understand the code before designing an agents based on behavioural tree.\n",
    "\n",
    "In the current setting a Pacman agent perform following actions: \n",
    "\n",
    "- **GoForward**: Take one step forward\n",
    "- **GoRight**: Turn 90 degrees right and take one step forward\n",
    "- **GoLeft**: Turn 90 degrees left and take one step forward\n",
    "- **GoBack**: Turn and 180 degrees and take one step forward\n",
    "- **Stop**: Shut down the agent\n",
    "- Any other command: No effect\n"
   ]
  },
  {
   "cell_type": "code",
   "execution_count": 1,
   "metadata": {
    "scrolled": true
   },
   "outputs": [],
   "source": [
    "from pacmanAgents import *\n",
    "from ghostAgents import *\n",
    "from pacman import *\n",
    "from game import *\n",
    "from util import *"
   ]
  },
  {
   "cell_type": "code",
   "execution_count": 2,
   "metadata": {},
   "outputs": [
    {
     "name": "stdout",
     "output_type": "stream",
     "text": [
      "<module 'ghostAgents' from 'C:\\\\Users\\\\kb\\\\Documents\\\\2020-22_MSC_GAMES\\\\MOARI\\\\labs\\\\lecture-01\\\\ghostAgents.py'>\n",
      "<module 'pacmanAgents' from 'C:\\\\Users\\\\kb\\\\Documents\\\\2020-22_MSC_GAMES\\\\MOARI\\\\labs\\\\lecture-01\\\\pacmanAgents.py'>\n",
      "<module 'ghostAgents' from 'C:\\\\Users\\\\kb\\\\Documents\\\\2020-22_MSC_GAMES\\\\MOARI\\\\labs\\\\lecture-01\\\\ghostAgents.py'>\n"
     ]
    },
    {
     "ename": "ModuleNotFoundError",
     "evalue": "No module named 'graphicsDisplay'",
     "output_type": "error",
     "traceback": [
      "\u001b[1;31m---------------------------------------------------------------------------\u001b[0m",
      "\u001b[1;31mModuleNotFoundError\u001b[0m                       Traceback (most recent call last)",
      "\u001b[1;32m~\\AppData\\Local\\Temp/ipykernel_11152/4244871233.py\u001b[0m in \u001b[0;36m<module>\u001b[1;34m\u001b[0m\n\u001b[0;32m      1\u001b[0m \u001b[1;31m# Run ZeroInteligent in the room layout \"layouts/custom.lay\"\u001b[0m\u001b[1;33m\u001b[0m\u001b[1;33m\u001b[0m\u001b[1;33m\u001b[0m\u001b[0m\n\u001b[1;32m----> 2\u001b[1;33m args = readCommand([\"--pacman\", ZeroIntelligent,\n\u001b[0m\u001b[0;32m      3\u001b[0m                     \"--layout\", \"mediumClassic\"]) # remove this if it takes too much space\n\u001b[0;32m      4\u001b[0m \u001b[1;31m# for more info about commands check line 530 in pacman.py\u001b[0m\u001b[1;33m\u001b[0m\u001b[1;33m\u001b[0m\u001b[1;33m\u001b[0m\u001b[0m\n\u001b[0;32m      5\u001b[0m \u001b[0mrunGames\u001b[0m\u001b[1;33m(\u001b[0m\u001b[1;33m**\u001b[0m\u001b[0margs\u001b[0m\u001b[1;33m)\u001b[0m\u001b[1;33m\u001b[0m\u001b[1;33m\u001b[0m\u001b[0m\n",
      "\u001b[1;32m~\\Documents\\2020-22_MSC_GAMES\\MOARI\\labs\\lecture-01\\pacman.py\u001b[0m in \u001b[0;36mreadCommand\u001b[1;34m(argv)\u001b[0m\n\u001b[0;32m    613\u001b[0m         \u001b[0margs\u001b[0m\u001b[1;33m[\u001b[0m\u001b[1;34m'display'\u001b[0m\u001b[1;33m]\u001b[0m \u001b[1;33m=\u001b[0m \u001b[0mtextDisplay\u001b[0m\u001b[1;33m.\u001b[0m\u001b[0mPacmanGraphics\u001b[0m\u001b[1;33m(\u001b[0m\u001b[1;33m)\u001b[0m\u001b[1;33m\u001b[0m\u001b[1;33m\u001b[0m\u001b[0m\n\u001b[0;32m    614\u001b[0m     \u001b[1;32melse\u001b[0m\u001b[1;33m:\u001b[0m\u001b[1;33m\u001b[0m\u001b[1;33m\u001b[0m\u001b[0m\n\u001b[1;32m--> 615\u001b[1;33m         \u001b[1;32mimport\u001b[0m \u001b[0mgraphicsDisplay\u001b[0m\u001b[1;33m\u001b[0m\u001b[1;33m\u001b[0m\u001b[0m\n\u001b[0m\u001b[0;32m    616\u001b[0m         \u001b[0margs\u001b[0m\u001b[1;33m[\u001b[0m\u001b[1;34m'display'\u001b[0m\u001b[1;33m]\u001b[0m \u001b[1;33m=\u001b[0m \u001b[0mgraphicsDisplay\u001b[0m\u001b[1;33m.\u001b[0m\u001b[0mPacmanGraphics\u001b[0m\u001b[1;33m(\u001b[0m\u001b[0moptions\u001b[0m\u001b[1;33m.\u001b[0m\u001b[0mzoom\u001b[0m\u001b[1;33m,\u001b[0m \u001b[0mframeTime\u001b[0m \u001b[1;33m=\u001b[0m \u001b[0moptions\u001b[0m\u001b[1;33m.\u001b[0m\u001b[0mframeTime\u001b[0m\u001b[1;33m)\u001b[0m\u001b[1;33m\u001b[0m\u001b[1;33m\u001b[0m\u001b[0m\n\u001b[0;32m    617\u001b[0m     \u001b[0margs\u001b[0m\u001b[1;33m[\u001b[0m\u001b[1;34m'numGames'\u001b[0m\u001b[1;33m]\u001b[0m \u001b[1;33m=\u001b[0m \u001b[0moptions\u001b[0m\u001b[1;33m.\u001b[0m\u001b[0mnumGames\u001b[0m\u001b[1;33m\u001b[0m\u001b[1;33m\u001b[0m\u001b[0m\n",
      "\u001b[1;31mModuleNotFoundError\u001b[0m: No module named 'graphicsDisplay'"
     ]
    }
   ],
   "source": [
    "# Run ZeroInteligent in the room layout \"layouts/custom.lay\"\n",
    "args = readCommand([\"--pacman\", ZeroIntelligent,\n",
    "                    \"--layout\", \"mediumClassic\"]) # remove this if it takes too much space\n",
    "# for more info about commands check line 530 in pacman.py\n",
    "runGames(**args)"
   ]
  },
  {
   "cell_type": "code",
   "execution_count": null,
   "metadata": {
    "scrolled": true,
    "tags": []
   },
   "outputs": [],
   "source": [
    "## this was added to the pacmanAgents module :D\n",
    "# class Intelligent(BaseAgent):\n",
    "#     class State:\n",
    "#         def __init__(self):\n",
    "#             self.bump = False\n",
    "#             self.previous_action = \"\"\n",
    "#             self.actions = [\"GoRight\", \"GoLeft\", \"GoForward\", \"GoBack\"]\n",
    "\n",
    "#         def __repr__(self):\n",
    "#             if self.bump:\n",
    "#                 return self.previous_action + \" resulted in a bump\"\n",
    "#             else:\n",
    "#                 return self.previous_action\n",
    "    \n",
    "#     def update_state_with_percept(self, percept, state):\n",
    "#         if percept[1] == \"bump\":\n",
    "#             state.bump = True\n",
    "#         else:\n",
    "#             state.bump = False\n",
    "#         return state\n",
    "\n",
    "#     def choose_action(self, state):\n",
    "#         actions = state.actions\n",
    "#         if state.bump:\n",
    "#             actions.remove(state.previous_action)\n",
    "#         return random.choice(actions)\n",
    "\n",
    "#     def update_state_with_action(self, action, state):\n",
    "#         state.previous_action = action\n",
    "#         # Print the representation (i.e. __repr__) of the state\n",
    "#         print(state)\n",
    "#         return state"
   ]
  },
  {
   "cell_type": "code",
   "execution_count": 3,
   "metadata": {
    "scrolled": true
   },
   "outputs": [
    {
     "name": "stdout",
     "output_type": "stream",
     "text": [
      "<module 'ghostAgents' from 'C:\\\\Users\\\\kb\\\\Documents\\\\2020-22_MSC_GAMES\\\\MOARI\\\\labs\\\\lecture-01\\\\ghostAgents.py'>\n",
      "<module 'keyboardAgents' from 'C:\\\\Users\\\\kb\\\\Documents\\\\2020-22_MSC_GAMES\\\\MOARI\\\\labs\\\\lecture-01\\\\keyboardAgents.py'>\n",
      "<module 'pacmanAgents' from 'C:\\\\Users\\\\kb\\\\Documents\\\\2020-22_MSC_GAMES\\\\MOARI\\\\labs\\\\lecture-01\\\\pacmanAgents.py'>\n",
      "<module 'ghostAgents' from 'C:\\\\Users\\\\kb\\\\Documents\\\\2020-22_MSC_GAMES\\\\MOARI\\\\labs\\\\lecture-01\\\\ghostAgents.py'>\n"
     ]
    },
    {
     "ename": "SystemExit",
     "evalue": "0",
     "output_type": "error",
     "traceback": [
      "An exception has occurred, use %tb to see the full traceback.\n",
      "\u001b[1;31mSystemExit\u001b[0m\u001b[1;31m:\u001b[0m 0\n"
     ]
    },
    {
     "name": "stderr",
     "output_type": "stream",
     "text": [
      "C:\\Anaconda3\\lib\\site-packages\\IPython\\core\\interactiveshell.py:3449: UserWarning: To exit: use 'exit', 'quit', or Ctrl-D.\n",
      "  warn(\"To exit: use 'exit', 'quit', or Ctrl-D.\", stacklevel=1)\n"
     ]
    }
   ],
   "source": [
    "# Run Intelligent agents\n",
    "args = readCommand([\"--pacman\", Intelligent,\n",
    "                    \"--layout\", \"mediumClassic\"])\n",
    "runGames(**args)"
   ]
  },
  {
   "cell_type": "markdown",
   "metadata": {},
   "source": [
    "**Assignment 1**: Understand the Pacman framework. Then, compile the code to learn what agents are doing. Lastly, try to learn the understant the agents behavior under different layout."
   ]
  },
  {
   "cell_type": "markdown",
   "metadata": {},
   "source": [
    "**Assignment 2**: Design your agent using Behaviour Tree on the above configurations."
   ]
  },
  {
   "cell_type": "code",
   "execution_count": null,
   "metadata": {},
   "outputs": [],
   "source": [
    "class BehaviourTree(BaseAgent):\n",
    "    class State:\n",
    "    ##Your code here###\n",
    "    \n",
    "    "
   ]
  },
  {
   "cell_type": "code",
   "execution_count": null,
   "metadata": {},
   "outputs": [],
   "source": [
    "# Run BehaviourTree agents\n",
    "args = readCommand([\"--pacman\", BehaviourTree,\n",
    "                    \"--layout\", \"mediumEmpty\"])\n",
    "runGames(**args)"
   ]
  },
  {
   "cell_type": "markdown",
   "metadata": {
    "tags": []
   },
   "source": [
    "**Assignment 3:** Implement some complex model using Ghost agents (e.g. Random, Chasing, Directional etc.) and Food or Pills options as discussed in the following:\n",
    "\n",
    "<ul>\n",
    "\n",
    "- __[Behavior Trees for Pacman](https://towardsdatascience.com/designing-ai-agents-behaviors-with-behavior-trees-b28aa1c3cf8a)__  \n",
    "- __[ Behavior Trees in Robotics and AI: An Introduction](https://btirai.github.io/)__\n",
    "\n",
    "</ul>\n"
   ]
  },
  {
   "cell_type": "code",
   "execution_count": null,
   "metadata": {},
   "outputs": [],
   "source": []
  }
 ],
 "metadata": {
  "kernelspec": {
   "display_name": "Python 3 (ipykernel)",
   "language": "python",
   "name": "python3"
  },
  "language_info": {
   "codemirror_mode": {
    "name": "ipython",
    "version": 3
   },
   "file_extension": ".py",
   "mimetype": "text/x-python",
   "name": "python",
   "nbconvert_exporter": "python",
   "pygments_lexer": "ipython3",
   "version": "3.8.8"
  }
 },
 "nbformat": 4,
 "nbformat_minor": 4
}
