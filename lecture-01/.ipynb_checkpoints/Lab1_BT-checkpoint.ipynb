{
 "cells": [
  {
   "cell_type": "markdown",
   "metadata": {},
   "source": [
    "# Lab 1: Designing AI agents using behavior trees for Pacman\n"
   ]
  },
  {
   "cell_type": "markdown",
   "metadata": {},
   "source": [
    "In this exercise, we learn to design a Packman agents using behaviour tree. We first start with two agents: `ZeroIntelligent` and `Intelligent` playing simple game. This acts as a practice to understand the Pacman framework and then utlize the same to design complex Pacman agents. Please try to understand the code before designing an agents based on behavioural tree.\n",
    "\n",
    "In the current setting a Pacman agent perform following actions: \n",
    "\n",
    "- **GoForward**: Take one step forward\n",
    "- **GoRight**: Turn 90 degrees right and take one step forward\n",
    "- **GoLeft**: Turn 90 degrees left and take one step forward\n",
    "- **GoBack**: Turn and 180 degrees and take one step forward\n",
    "- **Stop**: Shut down the agent\n",
    "- Any other command: No effect\n"
   ]
  },
  {
   "cell_type": "code",
   "execution_count": 2,
   "metadata": {
    "scrolled": true
   },
   "outputs": [],
   "source": [
    "from pacmanAgents import *\n",
    "from ghostAgents import *\n",
    "from pacman import *\n",
    "from game import *\n",
    "from util import *"
   ]
  },
  {
   "cell_type": "code",
   "execution_count": 2,
   "metadata": {},
   "outputs": [
    {
     "name": "stdout",
     "output_type": "stream",
     "text": [
      "<module 'ghostAgents' from 'C:\\\\Users\\\\kb\\\\Documents\\\\2020-22_MSC_GAMES\\\\MOARI\\\\labs\\\\lecture-01\\\\ghostAgents.py'>\n",
      "<module 'keyboardAgents' from 'C:\\\\Users\\\\kb\\\\Documents\\\\2020-22_MSC_GAMES\\\\MOARI\\\\labs\\\\lecture-01\\\\keyboardAgents.py'>\n",
      "<module 'pacmanAgents' from 'C:\\\\Users\\\\kb\\\\Documents\\\\2020-22_MSC_GAMES\\\\MOARI\\\\labs\\\\lecture-01\\\\pacmanAgents.py'>\n",
      "<module 'ghostAgents' from 'C:\\\\Users\\\\kb\\\\Documents\\\\2020-22_MSC_GAMES\\\\MOARI\\\\labs\\\\lecture-01\\\\ghostAgents.py'>\n",
      "{'layout': <layout.Layout object at 0x00000230DB9E9DF0>, 'pacman': <pacmanAgents.ZeroIntelligent object at 0x00000230DB9E9E20>, 'ghosts': [<ghostAgents.RandomGhost object at 0x00000230DB9E9F10>, <ghostAgents.RandomGhost object at 0x00000230DB881100>, <ghostAgents.RandomGhost object at 0x00000230DB8810D0>, <ghostAgents.RandomGhost object at 0x00000230DB881400>], 'display': <graphicsDisplay.PacmanGraphics object at 0x00000230DB815490>, 'numGames': 1, 'record': False, 'catchExceptions': False, 'timeout': 30, 'gameMenu': False}\n",
      "Pacman died! Score: -330\n"
     ]
    },
    {
     "data": {
      "text/plain": [
       "([], <graphicsDisplay.PacmanGraphics at 0x230db815490>)"
      ]
     },
     "execution_count": 2,
     "metadata": {},
     "output_type": "execute_result"
    }
   ],
   "source": [
    "# Run ZeroInteligent in the room layout \"layouts/custom.lay\"\n",
    "args = readCommand([\"--pacman\", ZeroIntelligent,\n",
    "                    \"--layout\", \"mediumClassic\"]) # remove this if it takes too much space\n",
    "# for more info about commands check line 530 in pacman.py\n",
    "runGames(**args)"
   ]
  },
  {
   "cell_type": "code",
   "execution_count": null,
   "metadata": {
    "scrolled": true,
    "tags": []
   },
   "outputs": [],
   "source": [
    "## this was added to the pacmanAgents module :D\n",
    "# class Intelligent(BaseAgent):\n",
    "#     class State:\n",
    "#         def __init__(self):\n",
    "#             self.bump = False\n",
    "#             self.previous_action = \"\"\n",
    "#             self.actions = [\"GoRight\", \"GoLeft\", \"GoForward\", \"GoBack\"]\n",
    "\n",
    "#         def __repr__(self):\n",
    "#             if self.bump:\n",
    "#                 return self.previous_action + \" resulted in a bump\"\n",
    "#             else:\n",
    "#                 return self.previous_action\n",
    "    \n",
    "#     def update_state_with_percept(self, percept, state):\n",
    "#         if percept[1] == \"bump\":\n",
    "#             state.bump = True\n",
    "#         else:\n",
    "#             state.bump = False\n",
    "#         return state\n",
    "\n",
    "#     def choose_action(self, state):\n",
    "#         actions = state.actions\n",
    "#         if state.bump:\n",
    "#             actions.remove(state.previous_action)\n",
    "#         return random.choice(actions)\n",
    "\n",
    "#     def update_state_with_action(self, action, state):\n",
    "#         state.previous_action = action\n",
    "#         # Print the representation (i.e. __repr__) of the state\n",
    "#         print(state)\n",
    "#         return state"
   ]
  },
  {
   "cell_type": "code",
   "execution_count": 3,
   "metadata": {
    "scrolled": true
   },
   "outputs": [
    {
     "name": "stdout",
     "output_type": "stream",
     "text": [
      "<module 'ghostAgents' from 'C:\\\\Users\\\\kb\\\\Documents\\\\2020-22_MSC_GAMES\\\\MOARI\\\\labs\\\\lecture-01\\\\ghostAgents.py'>\n",
      "<module 'keyboardAgents' from 'C:\\\\Users\\\\kb\\\\Documents\\\\2020-22_MSC_GAMES\\\\MOARI\\\\labs\\\\lecture-01\\\\keyboardAgents.py'>\n",
      "<module 'pacmanAgents' from 'C:\\\\Users\\\\kb\\\\Documents\\\\2020-22_MSC_GAMES\\\\MOARI\\\\labs\\\\lecture-01\\\\pacmanAgents.py'>\n",
      "<module 'ghostAgents' from 'C:\\\\Users\\\\kb\\\\Documents\\\\2020-22_MSC_GAMES\\\\MOARI\\\\labs\\\\lecture-01\\\\ghostAgents.py'>\n"
     ]
    },
    {
     "ename": "SystemExit",
     "evalue": "0",
     "output_type": "error",
     "traceback": [
      "An exception has occurred, use %tb to see the full traceback.\n",
      "\u001b[1;31mSystemExit\u001b[0m\u001b[1;31m:\u001b[0m 0\n"
     ]
    },
    {
     "name": "stderr",
     "output_type": "stream",
     "text": [
      "C:\\Anaconda3\\lib\\site-packages\\IPython\\core\\interactiveshell.py:3449: UserWarning: To exit: use 'exit', 'quit', or Ctrl-D.\n",
      "  warn(\"To exit: use 'exit', 'quit', or Ctrl-D.\", stacklevel=1)\n"
     ]
    }
   ],
   "source": [
    "# Run Intelligent agents\n",
    "args = readCommand([\"--pacman\", Intelligent,\n",
    "                    \"--layout\", \"mediumClassic\"])\n",
    "runGames(**args)"
   ]
  },
  {
   "cell_type": "markdown",
   "metadata": {},
   "source": [
    "**Assignment 1**: Understand the Pacman framework. Then, compile the code to learn what agents are doing. Lastly, try to learn the understant the agents behavior under different layout."
   ]
  },
  {
   "cell_type": "markdown",
   "metadata": {},
   "source": [
    "**Assignment 2**: Design your agent using Behaviour Tree on the above configurations."
   ]
  },
  {
   "cell_type": "code",
   "execution_count": null,
   "metadata": {},
   "outputs": [],
   "source": [
    "class BehaviourTree(BaseAgent):\n",
    "    class State:\n",
    "    ##Your code here###\n",
    "    \n",
    "    "
   ]
  },
  {
   "cell_type": "code",
   "execution_count": null,
   "metadata": {},
   "outputs": [],
   "source": [
    "# Run BehaviourTree agents\n",
    "args = readCommand([\"--pacman\", BehaviourTree,\n",
    "                    \"--layout\", \"mediumEmpty\"])\n",
    "runGames(**args)"
   ]
  },
  {
   "cell_type": "markdown",
   "metadata": {},
   "source": [
    "**Assignment 3:** Implement some complex model using Ghost agents (e.g. Random, Chasing, Directional etc.) and Food or Pills options as discussed in the following:\n",
    "\n",
    "<ul>\n",
    "\n",
    "- __[Behavior Trees for Pacman](https://towardsdatascience.com/designing-ai-agents-behaviors-with-behavior-trees-b28aa1c3cf8a)__  \n",
    "- __[ Behavior Trees in Robotics and AI: An Introduction](https://btirai.github.io/)__\n",
    "\n",
    "</ul>\n"
   ]
  },
  {
   "cell_type": "code",
   "execution_count": null,
   "metadata": {},
   "outputs": [],
   "source": []
  }
 ],
 "metadata": {
  "kernelspec": {
   "display_name": "Python 3 (ipykernel)",
   "language": "python",
   "name": "python3"
  },
  "language_info": {
   "codemirror_mode": {
    "name": "ipython",
    "version": 3
   },
   "file_extension": ".py",
   "mimetype": "text/x-python",
   "name": "python",
   "nbconvert_exporter": "python",
   "pygments_lexer": "ipython3",
   "version": "3.8.8"
  }
 },
 "nbformat": 4,
 "nbformat_minor": 4
}
